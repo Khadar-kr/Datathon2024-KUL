{
 "cells": [
  {
   "cell_type": "code",
   "execution_count": 2,
   "id": "a88a4e54",
   "metadata": {},
   "outputs": [],
   "source": [
    "import pandas as pd"
   ]
  },
  {
   "cell_type": "code",
   "execution_count": 77,
   "id": "fbc73d49",
   "metadata": {},
   "outputs": [],
   "source": [
    "df = pd.read_parquet(\"ambulance_locations.parquet.gzip\")"
   ]
  },
  {
   "cell_type": "code",
   "execution_count": 78,
   "id": "111f9252",
   "metadata": {},
   "outputs": [
    {
     "data": {
      "text/html": [
       "<div>\n",
       "<style scoped>\n",
       "    .dataframe tbody tr th:only-of-type {\n",
       "        vertical-align: middle;\n",
       "    }\n",
       "\n",
       "    .dataframe tbody tr th {\n",
       "        vertical-align: top;\n",
       "    }\n",
       "\n",
       "    .dataframe thead th {\n",
       "        text-align: right;\n",
       "    }\n",
       "</style>\n",
       "<table border=\"1\" class=\"dataframe\">\n",
       "  <thead>\n",
       "    <tr style=\"text-align: right;\">\n",
       "      <th></th>\n",
       "      <th>base</th>\n",
       "      <th>medical_resource</th>\n",
       "      <th>province</th>\n",
       "      <th>region</th>\n",
       "      <th>departure_location</th>\n",
       "      <th>departure_location_number</th>\n",
       "      <th>latitude</th>\n",
       "      <th>longitude</th>\n",
       "      <th>occasional_permanence</th>\n",
       "    </tr>\n",
       "  </thead>\n",
       "  <tbody>\n",
       "    <tr>\n",
       "      <th>0</th>\n",
       "      <td>BA ANTW [Borgerhout] AMBUCE</td>\n",
       "      <td>ZW ANTWERPEN 7 (Team: AAANTW07A)</td>\n",
       "      <td>Antwerpen</td>\n",
       "      <td>Vlaams Gewest</td>\n",
       "      <td>Gijselstraat 150 2140 BORGERHOUT</td>\n",
       "      <td>3811</td>\n",
       "      <td>51.215516</td>\n",
       "      <td>4.443788</td>\n",
       "      <td>N</td>\n",
       "    </tr>\n",
       "    <tr>\n",
       "      <th>1</th>\n",
       "      <td>BA ANTW [Hoboken] AMBUCE</td>\n",
       "      <td>ZW ANTWERPEN 9 (Team: AAANTW09A)</td>\n",
       "      <td>Antwerpen</td>\n",
       "      <td>Vlaams Gewest</td>\n",
       "      <td>Antwerpsesteenweg 242 2660 HOBOKEN</td>\n",
       "      <td>3812</td>\n",
       "      <td>51.178831</td>\n",
       "      <td>4.361948</td>\n",
       "      <td>N</td>\n",
       "    </tr>\n",
       "    <tr>\n",
       "      <th>2</th>\n",
       "      <td>BA ANTW [Hof Ter Schelde] AC Antwerpen</td>\n",
       "      <td>ZW ANTWERPEN 3 (Team: AAANTW03A)</td>\n",
       "      <td>Antwerpen</td>\n",
       "      <td>Vlaams Gewest</td>\n",
       "      <td>August Vermeylenlaan 6 2050 ANTWERPEN</td>\n",
       "      <td>10902</td>\n",
       "      <td>51.232810</td>\n",
       "      <td>4.377237</td>\n",
       "      <td>N</td>\n",
       "    </tr>\n",
       "    <tr>\n",
       "      <th>3</th>\n",
       "      <td>BA ANTW [Kaai 606] SIHWA</td>\n",
       "      <td>ZW ANTWERPEN HAVEN 1 (Team: AAAPOR01A)_x000D_Z...</td>\n",
       "      <td>Antwerpen</td>\n",
       "      <td>Vlaams Gewest</td>\n",
       "      <td>Antwerpsebaan 4 (Kaai 606) 2040 ANTWERPEN</td>\n",
       "      <td>12902</td>\n",
       "      <td>51.315516</td>\n",
       "      <td>4.321506</td>\n",
       "      <td>N</td>\n",
       "    </tr>\n",
       "    <tr>\n",
       "      <th>4</th>\n",
       "      <td>BA ANTW [Sint Elisabeth] AC Antwerpen</td>\n",
       "      <td>ZW ANTWERPEN 2 (Team: AAANTW02A)</td>\n",
       "      <td>Antwerpen</td>\n",
       "      <td>Vlaams Gewest</td>\n",
       "      <td>Leopoldstraat 26 2000 ANTWERPEN</td>\n",
       "      <td>10901</td>\n",
       "      <td>51.213623</td>\n",
       "      <td>4.405718</td>\n",
       "      <td>N</td>\n",
       "    </tr>\n",
       "  </tbody>\n",
       "</table>\n",
       "</div>"
      ],
      "text/plain": [
       "                                     base  \\\n",
       "0             BA ANTW [Borgerhout] AMBUCE   \n",
       "1                BA ANTW [Hoboken] AMBUCE   \n",
       "2  BA ANTW [Hof Ter Schelde] AC Antwerpen   \n",
       "3                BA ANTW [Kaai 606] SIHWA   \n",
       "4   BA ANTW [Sint Elisabeth] AC Antwerpen   \n",
       "\n",
       "                                    medical_resource   province  \\\n",
       "0                   ZW ANTWERPEN 7 (Team: AAANTW07A)  Antwerpen   \n",
       "1                   ZW ANTWERPEN 9 (Team: AAANTW09A)  Antwerpen   \n",
       "2                   ZW ANTWERPEN 3 (Team: AAANTW03A)  Antwerpen   \n",
       "3  ZW ANTWERPEN HAVEN 1 (Team: AAAPOR01A)_x000D_Z...  Antwerpen   \n",
       "4                   ZW ANTWERPEN 2 (Team: AAANTW02A)  Antwerpen   \n",
       "\n",
       "          region                         departure_location  \\\n",
       "0  Vlaams Gewest           Gijselstraat 150 2140 BORGERHOUT   \n",
       "1  Vlaams Gewest         Antwerpsesteenweg 242 2660 HOBOKEN   \n",
       "2  Vlaams Gewest      August Vermeylenlaan 6 2050 ANTWERPEN   \n",
       "3  Vlaams Gewest  Antwerpsebaan 4 (Kaai 606) 2040 ANTWERPEN   \n",
       "4  Vlaams Gewest            Leopoldstraat 26 2000 ANTWERPEN   \n",
       "\n",
       "   departure_location_number   latitude  longitude occasional_permanence  \n",
       "0                       3811  51.215516   4.443788                     N  \n",
       "1                       3812  51.178831   4.361948                     N  \n",
       "2                      10902  51.232810   4.377237                     N  \n",
       "3                      12902  51.315516   4.321506                     N  \n",
       "4                      10901  51.213623   4.405718                     N  "
      ]
     },
     "execution_count": 78,
     "metadata": {},
     "output_type": "execute_result"
    }
   ],
   "source": [
    "df.head()"
   ]
  },
  {
   "cell_type": "code",
   "execution_count": 79,
   "id": "1487e605",
   "metadata": {},
   "outputs": [
    {
     "data": {
      "text/plain": [
       "Index(['base', 'medical_resource', 'province', 'region', 'departure_location',\n",
       "       'departure_location_number', 'latitude', 'longitude',\n",
       "       'occasional_permanence'],\n",
       "      dtype='object')"
      ]
     },
     "execution_count": 79,
     "metadata": {},
     "output_type": "execute_result"
    }
   ],
   "source": [
    "df.columns"
   ]
  },
  {
   "cell_type": "code",
   "execution_count": 80,
   "id": "7a99cf12",
   "metadata": {},
   "outputs": [
    {
     "data": {
      "text/plain": [
       "array(['N', 'Y'], dtype=object)"
      ]
     },
     "execution_count": 80,
     "metadata": {},
     "output_type": "execute_result"
    }
   ],
   "source": [
    "df[\"occasional_permanence\"].unique()"
   ]
  },
  {
   "cell_type": "code",
   "execution_count": 81,
   "id": "d2371e85",
   "metadata": {},
   "outputs": [
    {
     "data": {
      "text/plain": [
       "array(['Antwerpen', None, 'Waals-Brabant', 'Luik', 'Henegouwen',\n",
       "       'Limburg', 'Namen', 'Oost-Vlaanderen', 'Vlaams-Brabant',\n",
       "       'West-Vlaanderen', 'Luxemburg'], dtype=object)"
      ]
     },
     "execution_count": 81,
     "metadata": {},
     "output_type": "execute_result"
    }
   ],
   "source": [
    "df[\"province\"].unique()"
   ]
  },
  {
   "cell_type": "code",
   "execution_count": 82,
   "id": "8aa177a6",
   "metadata": {},
   "outputs": [
    {
     "data": {
      "text/plain": [
       "array(['Vlaams Gewest', 'Brussels Hoofdstedelijk Gewest', 'Waals Gewest'],\n",
       "      dtype=object)"
      ]
     },
     "execution_count": 82,
     "metadata": {},
     "output_type": "execute_result"
    }
   ],
   "source": [
    "df[\"region\"].unique()"
   ]
  },
  {
   "cell_type": "code",
   "execution_count": 83,
   "id": "4635ddfc",
   "metadata": {},
   "outputs": [
    {
     "name": "stdout",
     "output_type": "stream",
     "text": [
      "<class 'pandas.core.frame.DataFrame'>\n",
      "RangeIndex: 279 entries, 0 to 278\n",
      "Data columns (total 9 columns):\n",
      " #   Column                     Non-Null Count  Dtype  \n",
      "---  ------                     --------------  -----  \n",
      " 0   base                       279 non-null    object \n",
      " 1   medical_resource           279 non-null    object \n",
      " 2   province                   266 non-null    object \n",
      " 3   region                     279 non-null    object \n",
      " 4   departure_location         279 non-null    object \n",
      " 5   departure_location_number  279 non-null    int64  \n",
      " 6   latitude                   279 non-null    float64\n",
      " 7   longitude                  279 non-null    float64\n",
      " 8   occasional_permanence      279 non-null    object \n",
      "dtypes: float64(2), int64(1), object(6)\n",
      "memory usage: 19.7+ KB\n"
     ]
    }
   ],
   "source": [
    "df.info()"
   ]
  },
  {
   "cell_type": "code",
   "execution_count": 84,
   "id": "5bf46854",
   "metadata": {},
   "outputs": [
    {
     "name": "stdout",
     "output_type": "stream",
     "text": [
      "Antwerpen          43\n",
      "Oost-Vlaanderen    38\n",
      "West-Vlaanderen    35\n",
      "Luik               30\n",
      "Henegouwen         29\n",
      "Vlaams-Brabant     23\n",
      "Limburg            21\n",
      "Luxemburg          20\n",
      "Namen              19\n",
      "Waals-Brabant       8\n",
      "Name: province, dtype: int64\n"
     ]
    }
   ],
   "source": [
    "province_counts = df[\"province\"].value_counts()\n",
    "print(province_counts)"
   ]
  },
  {
   "cell_type": "code",
   "execution_count": 85,
   "id": "54fee376",
   "metadata": {},
   "outputs": [
    {
     "name": "stdout",
     "output_type": "stream",
     "text": [
      "base                          0\n",
      "medical_resource              0\n",
      "province                     13\n",
      "region                        0\n",
      "departure_location            0\n",
      "departure_location_number     0\n",
      "latitude                      0\n",
      "longitude                     0\n",
      "occasional_permanence         0\n",
      "dtype: int64\n"
     ]
    }
   ],
   "source": [
    "missing_values = df.isnull().sum()\n",
    "print(missing_values)"
   ]
  },
  {
   "cell_type": "code",
   "execution_count": 86,
   "id": "72142124",
   "metadata": {},
   "outputs": [
    {
     "name": "stdout",
     "output_type": "stream",
     "text": [
      "                                     base  \\\n",
      "15            BB BRUX Hôpital Militair KA   \n",
      "16                    BB FORE Croix Rouge   \n",
      "65    FB PDS ANDE [PASI Anderlecht] SIAMU   \n",
      "66          FB PDS BRUX [PASI Cité] SIAMU   \n",
      "67         FB PDS IXEL [PASI Delta] SIAMU   \n",
      "68    FB PDS SCHA [PASI Paul Brien] SIAMU   \n",
      "69        FB PDS UCCL [PASI Chênai] SIAMU   \n",
      "222              HB UR BRUX CHU St Pierre   \n",
      "223                  HB UR BRUX CU St Luc   \n",
      "224           HB UR BRUX Europe Elisabeth   \n",
      "225              HB UR BRUX Europe Michel   \n",
      "226                         HB UR BRUX UZ   \n",
      "256  FB PDS BRUX [Caserne Héliport] SIAMU   \n",
      "\n",
      "                                      medical_resource province  \\\n",
      "15   AMB COVID HM (Team: ABBRUX22A)_x000D_AMB HMB 1...     None   \n",
      "16                        AMB FOREST (Team: ABFORE01A)     None   \n",
      "65   AMB AND 1 (Team: ABANDE01A)_x000D_AMB AND 2 (T...     None   \n",
      "66   AMB CITE 10 (Team: ABBRUX10A)_x000D_AMB CITE 1...     None   \n",
      "67   AMB DELTA 1 (Team: ABIXEL01A)_x000D_AMB DELTA ...     None   \n",
      "68   AMB BRIEN 1 (Team: ABSCHA01A)_x000D_AMB BRIEN ...     None   \n",
      "69                       AMB CHENAIE (Team: ABUCCL01A)     None   \n",
      "222  AMB HSP 14 (Team: ABBRUX14A)_x000D_AMB HSP 6 (...     None   \n",
      "223  AMB COVID UCL (Team: ABBRUX15A)_x000D_AMB UCL ...     None   \n",
      "224               AMB ST ELISABETH 9 (Team: ABBRUX09A)     None   \n",
      "225  AMB MICHEL 1 (Team: ABETTE01A)_x000D_AMB MICHE...     None   \n",
      "226  AMB VUB 1 (Team: ABJETT01A)_x000D_AMB VUB 2 (T...     None   \n",
      "256  AMB HELI 1 (Team: ABBRUX01A)_x000D_AMB HELI 10...     None   \n",
      "\n",
      "                             region  \\\n",
      "15   Brussels Hoofdstedelijk Gewest   \n",
      "16   Brussels Hoofdstedelijk Gewest   \n",
      "65   Brussels Hoofdstedelijk Gewest   \n",
      "66   Brussels Hoofdstedelijk Gewest   \n",
      "67   Brussels Hoofdstedelijk Gewest   \n",
      "68   Brussels Hoofdstedelijk Gewest   \n",
      "69   Brussels Hoofdstedelijk Gewest   \n",
      "222  Brussels Hoofdstedelijk Gewest   \n",
      "223  Brussels Hoofdstedelijk Gewest   \n",
      "224  Brussels Hoofdstedelijk Gewest   \n",
      "225  Brussels Hoofdstedelijk Gewest   \n",
      "226  Brussels Hoofdstedelijk Gewest   \n",
      "256  Brussels Hoofdstedelijk Gewest   \n",
      "\n",
      "                             departure_location  departure_location_number  \\\n",
      "15         Rue Bruyn 1 1120 NEDER-OVER-HEEMBEEK                       3921   \n",
      "16                  Rue Marconi 144 1190 FOREST                       3423   \n",
      "65         Chaussée De Mons 627 1070 ANDERLECHT                      24107   \n",
      "66                    Rue Vésale 1000 BRUXELLES                      24113   \n",
      "67       Boulevard Du Triomphe 155 1050 IXELLES                      24104   \n",
      "68       Avenue Brietsiers 11B 1030 SCHAERBEECK                      24110   \n",
      "69         Avenue De La Chênaie 161C 1180 UCCLE                      24108   \n",
      "222                Rue Haute 290 1000 BRUXELLES                      24102   \n",
      "223            Avenue Hyppocrate 92 1200 WOLUWE                      24105   \n",
      "224            Avenue De Fré 206 1180 BRUXELLES                      24106   \n",
      "225       Rue Charles Degroux 75 1040 ETTERBEEK                      24114   \n",
      "226     Avenue De L'Arbre Ballon 251 1090 JETTE                      24109   \n",
      "256  Avenue De L' Héliport 11-15 1000 BRUXELLES                      24101   \n",
      "\n",
      "      latitude  longitude occasional_permanence  \n",
      "15   50.907259   4.392329                     N  \n",
      "16   50.815526   4.341663                     N  \n",
      "65   50.832487   4.311568                     N  \n",
      "66   50.850885   4.364329                     N  \n",
      "67   50.818885   4.402860                     N  \n",
      "68   50.867478   4.377335                     N  \n",
      "69   50.783234   4.355925                     N  \n",
      "222  50.835718   4.347563                     N  \n",
      "223  50.851900   4.460354                     N  \n",
      "224  50.805155   4.368545                     N  \n",
      "225  50.842384   4.399312                     N  \n",
      "226  50.890728   4.308070                     N  \n",
      "256  50.859482   4.352190                     Y  \n"
     ]
    }
   ],
   "source": [
    "missing_province_rows = df[df['province'].isnull()]\n",
    "print(missing_province_rows)"
   ]
  },
  {
   "cell_type": "markdown",
   "id": "06fc2f3d",
   "metadata": {},
   "source": [
    "###### We change the missing values to brussels as they are all in brussels"
   ]
  },
  {
   "cell_type": "code",
   "execution_count": 87,
   "id": "4ca80338",
   "metadata": {},
   "outputs": [],
   "source": [
    "df['province'].fillna('Brussels', inplace=True)"
   ]
  },
  {
   "cell_type": "code",
   "execution_count": 88,
   "id": "c5e9a386",
   "metadata": {},
   "outputs": [
    {
     "data": {
      "text/html": [
       "<div>\n",
       "<style scoped>\n",
       "    .dataframe tbody tr th:only-of-type {\n",
       "        vertical-align: middle;\n",
       "    }\n",
       "\n",
       "    .dataframe tbody tr th {\n",
       "        vertical-align: top;\n",
       "    }\n",
       "\n",
       "    .dataframe thead th {\n",
       "        text-align: right;\n",
       "    }\n",
       "</style>\n",
       "<table border=\"1\" class=\"dataframe\">\n",
       "  <thead>\n",
       "    <tr style=\"text-align: right;\">\n",
       "      <th></th>\n",
       "      <th>base</th>\n",
       "      <th>medical_resource</th>\n",
       "      <th>province</th>\n",
       "      <th>region</th>\n",
       "      <th>departure_location</th>\n",
       "      <th>departure_location_number</th>\n",
       "      <th>latitude</th>\n",
       "      <th>longitude</th>\n",
       "      <th>occasional_permanence</th>\n",
       "    </tr>\n",
       "  </thead>\n",
       "  <tbody>\n",
       "    <tr>\n",
       "      <th>0</th>\n",
       "      <td>BA ANTW [Borgerhout] AMBUCE</td>\n",
       "      <td>ZW ANTWERPEN 7 (Team: AAANTW07A)</td>\n",
       "      <td>Antwerpen</td>\n",
       "      <td>Vlaams Gewest</td>\n",
       "      <td>Gijselstraat 150 2140 BORGERHOUT</td>\n",
       "      <td>3811</td>\n",
       "      <td>51.215516</td>\n",
       "      <td>4.443788</td>\n",
       "      <td>N</td>\n",
       "    </tr>\n",
       "    <tr>\n",
       "      <th>1</th>\n",
       "      <td>BA ANTW [Hoboken] AMBUCE</td>\n",
       "      <td>ZW ANTWERPEN 9 (Team: AAANTW09A)</td>\n",
       "      <td>Antwerpen</td>\n",
       "      <td>Vlaams Gewest</td>\n",
       "      <td>Antwerpsesteenweg 242 2660 HOBOKEN</td>\n",
       "      <td>3812</td>\n",
       "      <td>51.178831</td>\n",
       "      <td>4.361948</td>\n",
       "      <td>N</td>\n",
       "    </tr>\n",
       "    <tr>\n",
       "      <th>2</th>\n",
       "      <td>BA ANTW [Hof Ter Schelde] AC Antwerpen</td>\n",
       "      <td>ZW ANTWERPEN 3 (Team: AAANTW03A)</td>\n",
       "      <td>Antwerpen</td>\n",
       "      <td>Vlaams Gewest</td>\n",
       "      <td>August Vermeylenlaan 6 2050 ANTWERPEN</td>\n",
       "      <td>10902</td>\n",
       "      <td>51.232810</td>\n",
       "      <td>4.377237</td>\n",
       "      <td>N</td>\n",
       "    </tr>\n",
       "    <tr>\n",
       "      <th>3</th>\n",
       "      <td>BA ANTW [Kaai 606] SIHWA</td>\n",
       "      <td>ZW ANTWERPEN HAVEN 1 (Team: AAAPOR01A)_x000D_Z...</td>\n",
       "      <td>Antwerpen</td>\n",
       "      <td>Vlaams Gewest</td>\n",
       "      <td>Antwerpsebaan 4 (Kaai 606) 2040 ANTWERPEN</td>\n",
       "      <td>12902</td>\n",
       "      <td>51.315516</td>\n",
       "      <td>4.321506</td>\n",
       "      <td>N</td>\n",
       "    </tr>\n",
       "    <tr>\n",
       "      <th>4</th>\n",
       "      <td>BA ANTW [Sint Elisabeth] AC Antwerpen</td>\n",
       "      <td>ZW ANTWERPEN 2 (Team: AAANTW02A)</td>\n",
       "      <td>Antwerpen</td>\n",
       "      <td>Vlaams Gewest</td>\n",
       "      <td>Leopoldstraat 26 2000 ANTWERPEN</td>\n",
       "      <td>10901</td>\n",
       "      <td>51.213623</td>\n",
       "      <td>4.405718</td>\n",
       "      <td>N</td>\n",
       "    </tr>\n",
       "  </tbody>\n",
       "</table>\n",
       "</div>"
      ],
      "text/plain": [
       "                                     base  \\\n",
       "0             BA ANTW [Borgerhout] AMBUCE   \n",
       "1                BA ANTW [Hoboken] AMBUCE   \n",
       "2  BA ANTW [Hof Ter Schelde] AC Antwerpen   \n",
       "3                BA ANTW [Kaai 606] SIHWA   \n",
       "4   BA ANTW [Sint Elisabeth] AC Antwerpen   \n",
       "\n",
       "                                    medical_resource   province  \\\n",
       "0                   ZW ANTWERPEN 7 (Team: AAANTW07A)  Antwerpen   \n",
       "1                   ZW ANTWERPEN 9 (Team: AAANTW09A)  Antwerpen   \n",
       "2                   ZW ANTWERPEN 3 (Team: AAANTW03A)  Antwerpen   \n",
       "3  ZW ANTWERPEN HAVEN 1 (Team: AAAPOR01A)_x000D_Z...  Antwerpen   \n",
       "4                   ZW ANTWERPEN 2 (Team: AAANTW02A)  Antwerpen   \n",
       "\n",
       "          region                         departure_location  \\\n",
       "0  Vlaams Gewest           Gijselstraat 150 2140 BORGERHOUT   \n",
       "1  Vlaams Gewest         Antwerpsesteenweg 242 2660 HOBOKEN   \n",
       "2  Vlaams Gewest      August Vermeylenlaan 6 2050 ANTWERPEN   \n",
       "3  Vlaams Gewest  Antwerpsebaan 4 (Kaai 606) 2040 ANTWERPEN   \n",
       "4  Vlaams Gewest            Leopoldstraat 26 2000 ANTWERPEN   \n",
       "\n",
       "   departure_location_number   latitude  longitude occasional_permanence  \n",
       "0                       3811  51.215516   4.443788                     N  \n",
       "1                       3812  51.178831   4.361948                     N  \n",
       "2                      10902  51.232810   4.377237                     N  \n",
       "3                      12902  51.315516   4.321506                     N  \n",
       "4                      10901  51.213623   4.405718                     N  "
      ]
     },
     "execution_count": 88,
     "metadata": {},
     "output_type": "execute_result"
    }
   ],
   "source": [
    "df.head()"
   ]
  },
  {
   "cell_type": "markdown",
   "id": "78708b8c",
   "metadata": {},
   "source": [
    "##### Longitude and latitude shows the exact departure location"
   ]
  },
  {
   "cell_type": "code",
   "execution_count": 89,
   "id": "91da3d6b",
   "metadata": {},
   "outputs": [],
   "source": [
    "df.drop(\"base\", axis=1, inplace=True)"
   ]
  },
  {
   "cell_type": "code",
   "execution_count": 90,
   "id": "7dd6b6bf",
   "metadata": {},
   "outputs": [],
   "source": [
    "df.drop(\"medical_resource\", axis=1, inplace=True)"
   ]
  },
  {
   "cell_type": "markdown",
   "id": "7ee39dae",
   "metadata": {},
   "source": [
    "##### Both variables describe information about the team, the ambulance and so on. found it pretty useless"
   ]
  }
 ],
 "metadata": {
  "kernelspec": {
   "display_name": "Python 3 (ipykernel)",
   "language": "python",
   "name": "python3"
  },
  "language_info": {
   "codemirror_mode": {
    "name": "ipython",
    "version": 3
   },
   "file_extension": ".py",
   "mimetype": "text/x-python",
   "name": "python",
   "nbconvert_exporter": "python",
   "pygments_lexer": "ipython3",
   "version": "3.9.13"
  }
 },
 "nbformat": 4,
 "nbformat_minor": 5
}
