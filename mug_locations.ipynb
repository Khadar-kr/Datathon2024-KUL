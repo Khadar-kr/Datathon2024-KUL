{
 "cells": [
  {
   "cell_type": "code",
   "execution_count": 1,
   "id": "b418ba3f",
   "metadata": {},
   "outputs": [],
   "source": [
    "import pandas as pd"
   ]
  },
  {
   "cell_type": "code",
   "execution_count": 2,
   "id": "eec85343",
   "metadata": {},
   "outputs": [],
   "source": [
    "df = pd.read_parquet(\"mug_locations.parquet.gzip\")"
   ]
  },
  {
   "cell_type": "code",
   "execution_count": 3,
   "id": "cf60c471",
   "metadata": {},
   "outputs": [
    {
     "data": {
      "text/html": [
       "<div>\n",
       "<style scoped>\n",
       "    .dataframe tbody tr th:only-of-type {\n",
       "        vertical-align: middle;\n",
       "    }\n",
       "\n",
       "    .dataframe tbody tr th {\n",
       "        vertical-align: top;\n",
       "    }\n",
       "\n",
       "    .dataframe thead th {\n",
       "        text-align: right;\n",
       "    }\n",
       "</style>\n",
       "<table border=\"1\" class=\"dataframe\">\n",
       "  <thead>\n",
       "    <tr style=\"text-align: right;\">\n",
       "      <th></th>\n",
       "      <th>hospital_id</th>\n",
       "      <th>mug_id</th>\n",
       "      <th>campus_id</th>\n",
       "      <th>name_hospital</th>\n",
       "      <th>name_campus</th>\n",
       "      <th>address_campus</th>\n",
       "      <th>postal_code</th>\n",
       "      <th>municipality</th>\n",
       "      <th>region</th>\n",
       "      <th>province</th>\n",
       "    </tr>\n",
       "  </thead>\n",
       "  <tbody>\n",
       "    <tr>\n",
       "      <th>0</th>\n",
       "      <td>9</td>\n",
       "      <td>102000</td>\n",
       "      <td>6230</td>\n",
       "      <td>ZIEKENHUISNETWERK ANTWERPEN (ZNA)</td>\n",
       "      <td>ZNA CADIX</td>\n",
       "      <td>KEMPENSTRAAT 100</td>\n",
       "      <td>2030</td>\n",
       "      <td>ANTWERPEN</td>\n",
       "      <td>V</td>\n",
       "      <td>Antwerpen</td>\n",
       "    </tr>\n",
       "    <tr>\n",
       "      <th>1</th>\n",
       "      <td>99</td>\n",
       "      <td>102000</td>\n",
       "      <td>2020</td>\n",
       "      <td>GZA- ZIEKENHUIZEN</td>\n",
       "      <td>SINT-VINCENTIUS</td>\n",
       "      <td>ST.-VINCENTIUSSTRAAT 20</td>\n",
       "      <td>2018</td>\n",
       "      <td>ANTWERPEN</td>\n",
       "      <td>V</td>\n",
       "      <td>Antwerpen</td>\n",
       "    </tr>\n",
       "    <tr>\n",
       "      <th>2</th>\n",
       "      <td>682</td>\n",
       "      <td>102000</td>\n",
       "      <td>1210</td>\n",
       "      <td>AZ MONICA</td>\n",
       "      <td>DEURNE</td>\n",
       "      <td>FLORENT PAUWELSLEI 1</td>\n",
       "      <td>2100</td>\n",
       "      <td>DEURNE</td>\n",
       "      <td>V</td>\n",
       "      <td>Antwerpen</td>\n",
       "    </tr>\n",
       "    <tr>\n",
       "      <th>3</th>\n",
       "      <td>9</td>\n",
       "      <td>103000</td>\n",
       "      <td>2000</td>\n",
       "      <td>ZIEKENHUISNETWERK ANTWERPEN (ZNA)</td>\n",
       "      <td>ZNA MIDDELHEIM</td>\n",
       "      <td>LINDENDREEF 1</td>\n",
       "      <td>2020</td>\n",
       "      <td>ANTWERPEN</td>\n",
       "      <td>V</td>\n",
       "      <td>Antwerpen</td>\n",
       "    </tr>\n",
       "    <tr>\n",
       "      <th>4</th>\n",
       "      <td>99</td>\n",
       "      <td>103000</td>\n",
       "      <td>1290</td>\n",
       "      <td>GZA- ZIEKENHUIZEN</td>\n",
       "      <td>SINT- AUGUSTINUS</td>\n",
       "      <td>OOSTERVELDLAAN 24</td>\n",
       "      <td>2610</td>\n",
       "      <td>WILRIJK</td>\n",
       "      <td>V</td>\n",
       "      <td>Antwerpen</td>\n",
       "    </tr>\n",
       "  </tbody>\n",
       "</table>\n",
       "</div>"
      ],
      "text/plain": [
       "   hospital_id  mug_id  campus_id                      name_hospital  \\\n",
       "0            9  102000       6230  ZIEKENHUISNETWERK ANTWERPEN (ZNA)   \n",
       "1           99  102000       2020                  GZA- ZIEKENHUIZEN   \n",
       "2          682  102000       1210                          AZ MONICA   \n",
       "3            9  103000       2000  ZIEKENHUISNETWERK ANTWERPEN (ZNA)   \n",
       "4           99  103000       1290                  GZA- ZIEKENHUIZEN   \n",
       "\n",
       "        name_campus           address_campus  postal_code municipality region  \\\n",
       "0         ZNA CADIX         KEMPENSTRAAT 100         2030    ANTWERPEN      V   \n",
       "1   SINT-VINCENTIUS  ST.-VINCENTIUSSTRAAT 20         2018    ANTWERPEN      V   \n",
       "2            DEURNE     FLORENT PAUWELSLEI 1         2100       DEURNE      V   \n",
       "3    ZNA MIDDELHEIM            LINDENDREEF 1         2020    ANTWERPEN      V   \n",
       "4  SINT- AUGUSTINUS        OOSTERVELDLAAN 24         2610      WILRIJK      V   \n",
       "\n",
       "    province  \n",
       "0  Antwerpen  \n",
       "1  Antwerpen  \n",
       "2  Antwerpen  \n",
       "3  Antwerpen  \n",
       "4  Antwerpen  "
      ]
     },
     "execution_count": 3,
     "metadata": {},
     "output_type": "execute_result"
    }
   ],
   "source": [
    "df.head()"
   ]
  },
  {
   "cell_type": "code",
   "execution_count": 4,
   "id": "b83510aa",
   "metadata": {},
   "outputs": [
    {
     "name": "stdout",
     "output_type": "stream",
     "text": [
      "<class 'pandas.core.frame.DataFrame'>\n",
      "RangeIndex: 94 entries, 0 to 93\n",
      "Data columns (total 10 columns):\n",
      " #   Column          Non-Null Count  Dtype \n",
      "---  ------          --------------  ----- \n",
      " 0   hospital_id     94 non-null     int64 \n",
      " 1   mug_id          94 non-null     int64 \n",
      " 2   campus_id       94 non-null     int64 \n",
      " 3   name_hospital   94 non-null     object\n",
      " 4   name_campus     59 non-null     object\n",
      " 5   address_campus  94 non-null     object\n",
      " 6   postal_code     94 non-null     int64 \n",
      " 7   municipality    94 non-null     object\n",
      " 8   region          94 non-null     object\n",
      " 9   province        94 non-null     object\n",
      "dtypes: int64(4), object(6)\n",
      "memory usage: 7.5+ KB\n"
     ]
    }
   ],
   "source": [
    "df.info()"
   ]
  },
  {
   "cell_type": "code",
   "execution_count": 5,
   "id": "e970fc41",
   "metadata": {},
   "outputs": [],
   "source": [
    "df.drop(\"name_campus\", axis=1, inplace=True)"
   ]
  },
  {
   "cell_type": "markdown",
   "id": "e55e2f85",
   "metadata": {},
   "source": [
    "#### Im assuming the campus and the hospital has the AEDs. what we should check is the AEDs of the hospitals here overlap the AEDs in the AED list"
   ]
  },
  {
   "cell_type": "code",
   "execution_count": 6,
   "id": "e52a629d",
   "metadata": {},
   "outputs": [
    {
     "data": {
      "text/plain": [
       "array(['ANTWERPEN', 'DEURNE', 'WILRIJK', 'MERKSEM', 'BRASSCHAAT',\n",
       "       'EDEGEM', 'HERENTALS', 'TURNHOUT', 'MALLE', 'GEEL', 'LIER',\n",
       "       'MECHELEN', 'BONHEIDEN', 'GENT', 'SINT-NIKLAAS', 'DENDERMONDE',\n",
       "       'AALST', 'GERAARDSBERGEN', 'RONSE', 'ZOTTEGEM', 'OUDENAARDE',\n",
       "       'EEKLO', 'BRUGGE', 'KNOKKE-HEIST', 'OOSTENDE', 'KORTRIJK',\n",
       "       'VEURNE', 'TIELT', 'ROESELARE', 'TORHOUT', 'IEPER', 'MENEN',\n",
       "       'SINT-TRUIDEN', 'HASSELT', 'HEUSDEN', 'GENK', 'MAASEIK',\n",
       "       'TONGEREN', 'PELT', 'HALLE', 'LEUVEN', 'VILVOORDE', 'TIENEN',\n",
       "       'DIEST', 'SCHAARBEEK', 'ANDERLECHT', 'BRUSSEL',\n",
       "       'SINT-LAMBRECHTS-WOLUWE', 'UKKEL', 'JETTE', 'OUDERGEM', 'ELSENE',\n",
       "       'OTTIGNIES', 'NIVELLES', \"BRAINE-L'ALLEUD\", 'MONS', 'GOSSELIES',\n",
       "       'LA LOUVIERE', 'HAINE-SAINT-PAUL', 'HORNU', 'BOUSSU', 'TOURNAI',\n",
       "       'MOUSCRON', 'ATH', 'CHARLEROI', 'SOIGNIES', 'CHIMAY',\n",
       "       'MONTIGNY-LE-TILLEUL', 'LOBBES', 'LODELINSART', 'NAMUR',\n",
       "       'AUVELAIS', 'DINANT', 'MONT-GODINNE', 'LIEGE', 'CHENEE', 'SERAING',\n",
       "       'WAREMME', 'HUY', 'EUPEN', 'SANKT-VITH', 'VERVIERS', 'BASTOGNE',\n",
       "       'ARLON', 'LIBRAMONT', 'MARCHE-EN-FAMENNE'], dtype=object)"
      ]
     },
     "execution_count": 6,
     "metadata": {},
     "output_type": "execute_result"
    }
   ],
   "source": [
    "df[\"municipality\"].unique()"
   ]
  },
  {
   "cell_type": "code",
   "execution_count": 7,
   "id": "d916b69d",
   "metadata": {},
   "outputs": [
    {
     "data": {
      "text/plain": [
       "array(['V', 'B', 'W'], dtype=object)"
      ]
     },
     "execution_count": 7,
     "metadata": {},
     "output_type": "execute_result"
    }
   ],
   "source": [
    "df[\"region\"].unique()"
   ]
  },
  {
   "cell_type": "code",
   "execution_count": 8,
   "id": "bca4c36c",
   "metadata": {},
   "outputs": [
    {
     "data": {
      "text/html": [
       "<div>\n",
       "<style scoped>\n",
       "    .dataframe tbody tr th:only-of-type {\n",
       "        vertical-align: middle;\n",
       "    }\n",
       "\n",
       "    .dataframe tbody tr th {\n",
       "        vertical-align: top;\n",
       "    }\n",
       "\n",
       "    .dataframe thead th {\n",
       "        text-align: right;\n",
       "    }\n",
       "</style>\n",
       "<table border=\"1\" class=\"dataframe\">\n",
       "  <thead>\n",
       "    <tr style=\"text-align: right;\">\n",
       "      <th></th>\n",
       "      <th>hospital_id</th>\n",
       "      <th>mug_id</th>\n",
       "      <th>campus_id</th>\n",
       "      <th>name_hospital</th>\n",
       "      <th>address_campus</th>\n",
       "      <th>postal_code</th>\n",
       "      <th>municipality</th>\n",
       "      <th>region</th>\n",
       "      <th>province</th>\n",
       "    </tr>\n",
       "  </thead>\n",
       "  <tbody>\n",
       "    <tr>\n",
       "      <th>0</th>\n",
       "      <td>9</td>\n",
       "      <td>102000</td>\n",
       "      <td>6230</td>\n",
       "      <td>ZIEKENHUISNETWERK ANTWERPEN (ZNA)</td>\n",
       "      <td>KEMPENSTRAAT 100</td>\n",
       "      <td>2030</td>\n",
       "      <td>ANTWERPEN</td>\n",
       "      <td>V</td>\n",
       "      <td>Antwerpen</td>\n",
       "    </tr>\n",
       "    <tr>\n",
       "      <th>1</th>\n",
       "      <td>99</td>\n",
       "      <td>102000</td>\n",
       "      <td>2020</td>\n",
       "      <td>GZA- ZIEKENHUIZEN</td>\n",
       "      <td>ST.-VINCENTIUSSTRAAT 20</td>\n",
       "      <td>2018</td>\n",
       "      <td>ANTWERPEN</td>\n",
       "      <td>V</td>\n",
       "      <td>Antwerpen</td>\n",
       "    </tr>\n",
       "    <tr>\n",
       "      <th>2</th>\n",
       "      <td>682</td>\n",
       "      <td>102000</td>\n",
       "      <td>1210</td>\n",
       "      <td>AZ MONICA</td>\n",
       "      <td>FLORENT PAUWELSLEI 1</td>\n",
       "      <td>2100</td>\n",
       "      <td>DEURNE</td>\n",
       "      <td>V</td>\n",
       "      <td>Antwerpen</td>\n",
       "    </tr>\n",
       "    <tr>\n",
       "      <th>3</th>\n",
       "      <td>9</td>\n",
       "      <td>103000</td>\n",
       "      <td>2000</td>\n",
       "      <td>ZIEKENHUISNETWERK ANTWERPEN (ZNA)</td>\n",
       "      <td>LINDENDREEF 1</td>\n",
       "      <td>2020</td>\n",
       "      <td>ANTWERPEN</td>\n",
       "      <td>V</td>\n",
       "      <td>Antwerpen</td>\n",
       "    </tr>\n",
       "    <tr>\n",
       "      <th>4</th>\n",
       "      <td>99</td>\n",
       "      <td>103000</td>\n",
       "      <td>1290</td>\n",
       "      <td>GZA- ZIEKENHUIZEN</td>\n",
       "      <td>OOSTERVELDLAAN 24</td>\n",
       "      <td>2610</td>\n",
       "      <td>WILRIJK</td>\n",
       "      <td>V</td>\n",
       "      <td>Antwerpen</td>\n",
       "    </tr>\n",
       "  </tbody>\n",
       "</table>\n",
       "</div>"
      ],
      "text/plain": [
       "   hospital_id  mug_id  campus_id                      name_hospital  \\\n",
       "0            9  102000       6230  ZIEKENHUISNETWERK ANTWERPEN (ZNA)   \n",
       "1           99  102000       2020                  GZA- ZIEKENHUIZEN   \n",
       "2          682  102000       1210                          AZ MONICA   \n",
       "3            9  103000       2000  ZIEKENHUISNETWERK ANTWERPEN (ZNA)   \n",
       "4           99  103000       1290                  GZA- ZIEKENHUIZEN   \n",
       "\n",
       "            address_campus  postal_code municipality region   province  \n",
       "0         KEMPENSTRAAT 100         2030    ANTWERPEN      V  Antwerpen  \n",
       "1  ST.-VINCENTIUSSTRAAT 20         2018    ANTWERPEN      V  Antwerpen  \n",
       "2     FLORENT PAUWELSLEI 1         2100       DEURNE      V  Antwerpen  \n",
       "3            LINDENDREEF 1         2020    ANTWERPEN      V  Antwerpen  \n",
       "4        OOSTERVELDLAAN 24         2610      WILRIJK      V  Antwerpen  "
      ]
     },
     "execution_count": 8,
     "metadata": {},
     "output_type": "execute_result"
    }
   ],
   "source": [
    "df.head()"
   ]
  },
  {
   "cell_type": "code",
   "execution_count": 9,
   "id": "6da45b0c",
   "metadata": {},
   "outputs": [],
   "source": [
    "df.drop(\"hospital_id\", axis=1, inplace=True)"
   ]
  },
  {
   "cell_type": "markdown",
   "id": "3a17724b",
   "metadata": {},
   "source": [
    "#### hospital ID and name hospital im assuming is the same, name hospital probably makes more sense to keep"
   ]
  },
  {
   "cell_type": "code",
   "execution_count": 10,
   "id": "19b6aa9a",
   "metadata": {},
   "outputs": [
    {
     "data": {
      "text/html": [
       "<div>\n",
       "<style scoped>\n",
       "    .dataframe tbody tr th:only-of-type {\n",
       "        vertical-align: middle;\n",
       "    }\n",
       "\n",
       "    .dataframe tbody tr th {\n",
       "        vertical-align: top;\n",
       "    }\n",
       "\n",
       "    .dataframe thead th {\n",
       "        text-align: right;\n",
       "    }\n",
       "</style>\n",
       "<table border=\"1\" class=\"dataframe\">\n",
       "  <thead>\n",
       "    <tr style=\"text-align: right;\">\n",
       "      <th></th>\n",
       "      <th>mug_id</th>\n",
       "      <th>campus_id</th>\n",
       "      <th>name_hospital</th>\n",
       "      <th>address_campus</th>\n",
       "      <th>postal_code</th>\n",
       "      <th>municipality</th>\n",
       "      <th>region</th>\n",
       "      <th>province</th>\n",
       "    </tr>\n",
       "  </thead>\n",
       "  <tbody>\n",
       "    <tr>\n",
       "      <th>0</th>\n",
       "      <td>102000</td>\n",
       "      <td>6230</td>\n",
       "      <td>ZIEKENHUISNETWERK ANTWERPEN (ZNA)</td>\n",
       "      <td>KEMPENSTRAAT 100</td>\n",
       "      <td>2030</td>\n",
       "      <td>ANTWERPEN</td>\n",
       "      <td>V</td>\n",
       "      <td>Antwerpen</td>\n",
       "    </tr>\n",
       "    <tr>\n",
       "      <th>1</th>\n",
       "      <td>102000</td>\n",
       "      <td>2020</td>\n",
       "      <td>GZA- ZIEKENHUIZEN</td>\n",
       "      <td>ST.-VINCENTIUSSTRAAT 20</td>\n",
       "      <td>2018</td>\n",
       "      <td>ANTWERPEN</td>\n",
       "      <td>V</td>\n",
       "      <td>Antwerpen</td>\n",
       "    </tr>\n",
       "    <tr>\n",
       "      <th>2</th>\n",
       "      <td>102000</td>\n",
       "      <td>1210</td>\n",
       "      <td>AZ MONICA</td>\n",
       "      <td>FLORENT PAUWELSLEI 1</td>\n",
       "      <td>2100</td>\n",
       "      <td>DEURNE</td>\n",
       "      <td>V</td>\n",
       "      <td>Antwerpen</td>\n",
       "    </tr>\n",
       "    <tr>\n",
       "      <th>3</th>\n",
       "      <td>103000</td>\n",
       "      <td>2000</td>\n",
       "      <td>ZIEKENHUISNETWERK ANTWERPEN (ZNA)</td>\n",
       "      <td>LINDENDREEF 1</td>\n",
       "      <td>2020</td>\n",
       "      <td>ANTWERPEN</td>\n",
       "      <td>V</td>\n",
       "      <td>Antwerpen</td>\n",
       "    </tr>\n",
       "    <tr>\n",
       "      <th>4</th>\n",
       "      <td>103000</td>\n",
       "      <td>1290</td>\n",
       "      <td>GZA- ZIEKENHUIZEN</td>\n",
       "      <td>OOSTERVELDLAAN 24</td>\n",
       "      <td>2610</td>\n",
       "      <td>WILRIJK</td>\n",
       "      <td>V</td>\n",
       "      <td>Antwerpen</td>\n",
       "    </tr>\n",
       "  </tbody>\n",
       "</table>\n",
       "</div>"
      ],
      "text/plain": [
       "   mug_id  campus_id                      name_hospital  \\\n",
       "0  102000       6230  ZIEKENHUISNETWERK ANTWERPEN (ZNA)   \n",
       "1  102000       2020                  GZA- ZIEKENHUIZEN   \n",
       "2  102000       1210                          AZ MONICA   \n",
       "3  103000       2000  ZIEKENHUISNETWERK ANTWERPEN (ZNA)   \n",
       "4  103000       1290                  GZA- ZIEKENHUIZEN   \n",
       "\n",
       "            address_campus  postal_code municipality region   province  \n",
       "0         KEMPENSTRAAT 100         2030    ANTWERPEN      V  Antwerpen  \n",
       "1  ST.-VINCENTIUSSTRAAT 20         2018    ANTWERPEN      V  Antwerpen  \n",
       "2     FLORENT PAUWELSLEI 1         2100       DEURNE      V  Antwerpen  \n",
       "3            LINDENDREEF 1         2020    ANTWERPEN      V  Antwerpen  \n",
       "4        OOSTERVELDLAAN 24         2610      WILRIJK      V  Antwerpen  "
      ]
     },
     "execution_count": 10,
     "metadata": {},
     "output_type": "execute_result"
    }
   ],
   "source": [
    "df.head()"
   ]
  },
  {
   "cell_type": "markdown",
   "id": "44a5e9e5",
   "metadata": {},
   "source": [
    "#### It seems that the same mug might work for different campuses. as we observe same mugh id mentioned several times to different campus id"
   ]
  },
  {
   "cell_type": "code",
   "execution_count": null,
   "id": "6b6d4fa0",
   "metadata": {},
   "outputs": [],
   "source": []
  }
 ],
 "metadata": {
  "kernelspec": {
   "display_name": "Python 3 (ipykernel)",
   "language": "python",
   "name": "python3"
  },
  "language_info": {
   "codemirror_mode": {
    "name": "ipython",
    "version": 3
   },
   "file_extension": ".py",
   "mimetype": "text/x-python",
   "name": "python",
   "nbconvert_exporter": "python",
   "pygments_lexer": "ipython3",
   "version": "3.9.13"
  }
 },
 "nbformat": 4,
 "nbformat_minor": 5
}
