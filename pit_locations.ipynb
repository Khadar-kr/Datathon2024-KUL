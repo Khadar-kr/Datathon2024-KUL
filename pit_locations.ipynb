{
 "cells": [
  {
   "cell_type": "code",
   "execution_count": 1,
   "id": "7c83ec55",
   "metadata": {},
   "outputs": [],
   "source": [
    "import pandas as pd"
   ]
  },
  {
   "cell_type": "code",
   "execution_count": 2,
   "id": "833e087d",
   "metadata": {},
   "outputs": [],
   "source": [
    "df = pd.read_parquet(\"pit_locations.parquet.gzip\")"
   ]
  },
  {
   "cell_type": "code",
   "execution_count": 3,
   "id": "f87a51ad",
   "metadata": {},
   "outputs": [
    {
     "data": {
      "text/html": [
       "<div>\n",
       "<style scoped>\n",
       "    .dataframe tbody tr th:only-of-type {\n",
       "        vertical-align: middle;\n",
       "    }\n",
       "\n",
       "    .dataframe tbody tr th {\n",
       "        vertical-align: top;\n",
       "    }\n",
       "\n",
       "    .dataframe thead th {\n",
       "        text-align: right;\n",
       "    }\n",
       "</style>\n",
       "<table border=\"1\" class=\"dataframe\">\n",
       "  <thead>\n",
       "    <tr style=\"text-align: right;\">\n",
       "      <th></th>\n",
       "      <th>unit</th>\n",
       "      <th>campus</th>\n",
       "      <th>province</th>\n",
       "      <th>region</th>\n",
       "      <th>unit_id</th>\n",
       "      <th>ambucode</th>\n",
       "      <th>ambusitecode</th>\n",
       "      <th>link</th>\n",
       "    </tr>\n",
       "  </thead>\n",
       "  <tbody>\n",
       "    <tr>\n",
       "      <th>0</th>\n",
       "      <td>100001: PIT Rumst, AZ Rivierland</td>\n",
       "      <td>Ziekenhuis/Hôpital: 104 - AZ RIVIERENLAND --- ...</td>\n",
       "      <td>Antwerpen/Anvers</td>\n",
       "      <td>Vlaanderen/Flandre</td>\n",
       "      <td>PARUMS01A</td>\n",
       "      <td>191</td>\n",
       "      <td>19101</td>\n",
       "      <td>None</td>\n",
       "    </tr>\n",
       "    <tr>\n",
       "      <th>1</th>\n",
       "      <td>102001: PIT Deinze, St Vincentius</td>\n",
       "      <td>Ziekenhuis/Hôpital: 134 - AZ SINT-VINCENTIUS -...</td>\n",
       "      <td>Oost-Vlaanderen/Flandre orientale</td>\n",
       "      <td>Vlaanderen/Flandre</td>\n",
       "      <td>PODEIN01A</td>\n",
       "      <td>413</td>\n",
       "      <td>41301</td>\n",
       "      <td>None</td>\n",
       "    </tr>\n",
       "    <tr>\n",
       "      <th>2</th>\n",
       "      <td>102101: PIT Stuivenberg</td>\n",
       "      <td>Ziekenhuis/Hôpital: 009 - ZIEKENHUISNETWERK AN...</td>\n",
       "      <td>Antwerpen/Anvers</td>\n",
       "      <td>Vlaanderen/Flandre</td>\n",
       "      <td>PAANTW01A</td>\n",
       "      <td>117</td>\n",
       "      <td>11704</td>\n",
       "      <td>None</td>\n",
       "    </tr>\n",
       "    <tr>\n",
       "      <th>3</th>\n",
       "      <td>110001: PIT Lier, Heilig Hart</td>\n",
       "      <td>Ziekenhuis/Hôpital: 097 - HEILIG HART ZIEKENHU...</td>\n",
       "      <td>Antwerpen/Anvers</td>\n",
       "      <td>Vlaanderen/Flandre</td>\n",
       "      <td>PALIER01A</td>\n",
       "      <td>171</td>\n",
       "      <td>17101</td>\n",
       "      <td>None</td>\n",
       "    </tr>\n",
       "    <tr>\n",
       "      <th>4</th>\n",
       "      <td>113001: PIT HEILIG HART ZIEKENHUIS</td>\n",
       "      <td>Ziekenhuis/Hôpital: 102 - HEILIG HART ZIEKENHU...</td>\n",
       "      <td>Antwerpen/Anvers</td>\n",
       "      <td>Vlaanderen/Flandre</td>\n",
       "      <td>PAMOL_01A</td>\n",
       "      <td>190</td>\n",
       "      <td>19001</td>\n",
       "      <td>None</td>\n",
       "    </tr>\n",
       "  </tbody>\n",
       "</table>\n",
       "</div>"
      ],
      "text/plain": [
       "                                 unit  \\\n",
       "0    100001: PIT Rumst, AZ Rivierland   \n",
       "1  102001: PIT Deinze, St Vincentius    \n",
       "2             102101: PIT Stuivenberg   \n",
       "3       110001: PIT Lier, Heilig Hart   \n",
       "4  113001: PIT HEILIG HART ZIEKENHUIS   \n",
       "\n",
       "                                              campus  \\\n",
       "0  Ziekenhuis/Hôpital: 104 - AZ RIVIERENLAND --- ...   \n",
       "1  Ziekenhuis/Hôpital: 134 - AZ SINT-VINCENTIUS -...   \n",
       "2  Ziekenhuis/Hôpital: 009 - ZIEKENHUISNETWERK AN...   \n",
       "3  Ziekenhuis/Hôpital: 097 - HEILIG HART ZIEKENHU...   \n",
       "4  Ziekenhuis/Hôpital: 102 - HEILIG HART ZIEKENHU...   \n",
       "\n",
       "                            province              region    unit_id  ambucode  \\\n",
       "0                   Antwerpen/Anvers  Vlaanderen/Flandre  PARUMS01A       191   \n",
       "1  Oost-Vlaanderen/Flandre orientale  Vlaanderen/Flandre  PODEIN01A       413   \n",
       "2                   Antwerpen/Anvers  Vlaanderen/Flandre  PAANTW01A       117   \n",
       "3                   Antwerpen/Anvers  Vlaanderen/Flandre  PALIER01A       171   \n",
       "4                   Antwerpen/Anvers  Vlaanderen/Flandre  PAMOL_01A       190   \n",
       "\n",
       "   ambusitecode  link  \n",
       "0         19101  None  \n",
       "1         41301  None  \n",
       "2         11704  None  \n",
       "3         17101  None  \n",
       "4         19001  None  "
      ]
     },
     "execution_count": 3,
     "metadata": {},
     "output_type": "execute_result"
    }
   ],
   "source": [
    "df.head()"
   ]
  },
  {
   "cell_type": "code",
   "execution_count": 4,
   "id": "33cf0b3c",
   "metadata": {},
   "outputs": [
    {
     "name": "stdout",
     "output_type": "stream",
     "text": [
      "<class 'pandas.core.frame.DataFrame'>\n",
      "RangeIndex: 24 entries, 0 to 23\n",
      "Data columns (total 8 columns):\n",
      " #   Column        Non-Null Count  Dtype \n",
      "---  ------        --------------  ----- \n",
      " 0   unit          24 non-null     object\n",
      " 1   campus        24 non-null     object\n",
      " 2   province      21 non-null     object\n",
      " 3   region        24 non-null     object\n",
      " 4   unit_id       24 non-null     object\n",
      " 5   ambucode      24 non-null     int64 \n",
      " 6   ambusitecode  24 non-null     int64 \n",
      " 7   link          2 non-null      object\n",
      "dtypes: int64(2), object(6)\n",
      "memory usage: 1.6+ KB\n"
     ]
    }
   ],
   "source": [
    "df.info()"
   ]
  },
  {
   "cell_type": "code",
   "execution_count": 5,
   "id": "5e9d8e9e",
   "metadata": {},
   "outputs": [],
   "source": [
    "df.drop(\"link\", axis=1, inplace=True)"
   ]
  },
  {
   "cell_type": "code",
   "execution_count": 6,
   "id": "8ecc5f73",
   "metadata": {},
   "outputs": [
    {
     "name": "stdout",
     "output_type": "stream",
     "text": [
      "                               unit  \\\n",
      "12   520001: PIT Ixelles, Iris Sud    \n",
      "13  523001: PIT St Pierre Bruxelles   \n",
      "14           526001: PIT UZ BRUSSEL   \n",
      "\n",
      "                                               campus province  \\\n",
      "12  Ziekenhuis/Hôpital: 087 - HOPITAUX IRIS SUD --...     None   \n",
      "13  Ziekenhuis/Hôpital: 076 - CHU SAINT-PIERRE ---...     None   \n",
      "14  Ziekenhuis/Hôpital: 143 - UNIVERSITAIR ZIEKENH...     None   \n",
      "\n",
      "                                               region    unit_id  ambucode  \\\n",
      "12  Brussels Hoofdstedelijk Gewest\\nRégion de Brux...  PBIXEL01A       290   \n",
      "13  Brussels Hoofdstedelijk Gewest\\nRégion de Brux...  PBBRUX01A       280   \n",
      "14  Brussels Hoofdstedelijk Gewest\\nRégion de Brux...  PBJETT01A       270   \n",
      "\n",
      "    ambusitecode  \n",
      "12         29001  \n",
      "13         28001  \n",
      "14         27001  \n"
     ]
    }
   ],
   "source": [
    "missing_province_rows = df[df['province'].isnull()]\n",
    "print(missing_province_rows)"
   ]
  },
  {
   "cell_type": "code",
   "execution_count": null,
   "id": "a90585ba",
   "metadata": {},
   "outputs": [],
   "source": []
  }
 ],
 "metadata": {
  "kernelspec": {
   "display_name": "Python 3 (ipykernel)",
   "language": "python",
   "name": "python3"
  },
  "language_info": {
   "codemirror_mode": {
    "name": "ipython",
    "version": 3
   },
   "file_extension": ".py",
   "mimetype": "text/x-python",
   "name": "python",
   "nbconvert_exporter": "python",
   "pygments_lexer": "ipython3",
   "version": "3.9.13"
  }
 },
 "nbformat": 4,
 "nbformat_minor": 5
}
